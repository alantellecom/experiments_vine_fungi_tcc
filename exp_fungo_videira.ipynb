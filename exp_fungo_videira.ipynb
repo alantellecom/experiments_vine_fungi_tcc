{
 "cells": [
  {
   "cell_type": "code",
   "execution_count": 81,
   "id": "065dd55e-8f43-4066-96a9-3804be7699e4",
   "metadata": {
    "collapsed": true,
    "jupyter": {
     "outputs_hidden": true
    },
    "tags": []
   },
   "outputs": [
    {
     "name": "stdout",
     "output_type": "stream",
     "text": []
    },
    {
     "name": "stdout",
     "output_type": "stream",
     "text": []
    },
    {
     "name": "stdout",
     "output_type": "stream",
     "text": []
    },
    {
     "name": "stdout",
     "output_type": "stream",
     "text": []
    },
    {
     "name": "stdout",
     "output_type": "stream",
     "text": []
    },
    {
     "name": "stdout",
     "output_type": "stream",
     "text": []
    },
    {
     "name": "stdout",
     "output_type": "stream",
     "text": []
    },
    {
     "name": "stdout",
     "output_type": "stream",
     "text": []
    },
    {
     "name": "stdout",
     "output_type": "stream",
     "text": []
    },
    {
     "name": "stdout",
     "output_type": "stream",
     "text": []
    },
    {
     "name": "stdout",
     "output_type": "stream",
     "text": []
    },
    {
     "name": "stdout",
     "output_type": "stream",
     "text": []
    },
    {
     "name": "stdout",
     "output_type": "stream",
     "text": []
    },
    {
     "name": "stdout",
     "output_type": "stream",
     "text": []
    },
    {
     "name": "stdout",
     "output_type": "stream",
     "text": []
    },
    {
     "name": "stdout",
     "output_type": "stream",
     "text": []
    },
    {
     "name": "stdout",
     "output_type": "stream",
     "text": []
    },
    {
     "name": "stdout",
     "output_type": "stream",
     "text": []
    },
    {
     "name": "stdout",
     "output_type": "stream",
     "text": []
    },
    {
     "name": "stdout",
     "output_type": "stream",
     "text": []
    },
    {
     "name": "stdout",
     "output_type": "stream",
     "text": []
    },
    {
     "name": "stdout",
     "output_type": "stream",
     "text": []
    },
    {
     "name": "stdout",
     "output_type": "stream",
     "text": []
    },
    {
     "name": "stdout",
     "output_type": "stream",
     "text": []
    },
    {
     "name": "stdout",
     "output_type": "stream",
     "text": []
    },
    {
     "name": "stdout",
     "output_type": "stream",
     "text": []
    },
    {
     "name": "stdout",
     "output_type": "stream",
     "text": []
    },
    {
     "name": "stdout",
     "output_type": "stream",
     "text": []
    },
    {
     "name": "stdout",
     "output_type": "stream",
     "text": []
    },
    {
     "name": "stdout",
     "output_type": "stream",
     "text": []
    },
    {
     "name": "stdout",
     "output_type": "stream",
     "text": []
    },
    {
     "name": "stdout",
     "output_type": "stream",
     "text": []
    },
    {
     "name": "stdout",
     "output_type": "stream",
     "text": []
    },
    {
     "name": "stdout",
     "output_type": "stream",
     "text": []
    },
    {
     "name": "stdout",
     "output_type": "stream",
     "text": []
    },
    {
     "name": "stdout",
     "output_type": "stream",
     "text": []
    },
    {
     "name": "stdout",
     "output_type": "stream",
     "text": []
    },
    {
     "name": "stdout",
     "output_type": "stream",
     "text": []
    },
    {
     "name": "stdout",
     "output_type": "stream",
     "text": []
    },
    {
     "name": "stdout",
     "output_type": "stream",
     "text": []
    },
    {
     "name": "stdout",
     "output_type": "stream",
     "text": []
    },
    {
     "name": "stdout",
     "output_type": "stream",
     "text": []
    },
    {
     "name": "stdout",
     "output_type": "stream",
     "text": []
    },
    {
     "name": "stdout",
     "output_type": "stream",
     "text": []
    },
    {
     "name": "stdout",
     "output_type": "stream",
     "text": []
    },
    {
     "name": "stdout",
     "output_type": "stream",
     "text": []
    },
    {
     "name": "stdout",
     "output_type": "stream",
     "text": []
    },
    {
     "name": "stdout",
     "output_type": "stream",
     "text": []
    },
    {
     "name": "stdout",
     "output_type": "stream",
     "text": []
    },
    {
     "name": "stdout",
     "output_type": "stream",
     "text": []
    },
    {
     "name": "stdout",
     "output_type": "stream",
     "text": []
    },
    {
     "name": "stdout",
     "output_type": "stream",
     "text": []
    },
    {
     "name": "stdout",
     "output_type": "stream",
     "text": []
    },
    {
     "name": "stdout",
     "output_type": "stream",
     "text": []
    },
    {
     "name": "stdout",
     "output_type": "stream",
     "text": []
    },
    {
     "name": "stdout",
     "output_type": "stream",
     "text": []
    },
    {
     "name": "stdout",
     "output_type": "stream",
     "text": []
    },
    {
     "name": "stdout",
     "output_type": "stream",
     "text": []
    },
    {
     "name": "stdout",
     "output_type": "stream",
     "text": []
    },
    {
     "name": "stdout",
     "output_type": "stream",
     "text": []
    },
    {
     "name": "stdout",
     "output_type": "stream",
     "text": []
    },
    {
     "name": "stdout",
     "output_type": "stream",
     "text": []
    },
    {
     "name": "stdout",
     "output_type": "stream",
     "text": []
    },
    {
     "name": "stdout",
     "output_type": "stream",
     "text": []
    },
    {
     "name": "stdout",
     "output_type": "stream",
     "text": []
    },
    {
     "name": "stdout",
     "output_type": "stream",
     "text": []
    },
    {
     "name": "stdout",
     "output_type": "stream",
     "text": []
    },
    {
     "name": "stdout",
     "output_type": "stream",
     "text": []
    },
    {
     "name": "stdout",
     "output_type": "stream",
     "text": []
    },
    {
     "name": "stdout",
     "output_type": "stream",
     "text": []
    },
    {
     "name": "stdout",
     "output_type": "stream",
     "text": []
    },
    {
     "name": "stdout",
     "output_type": "stream",
     "text": []
    },
    {
     "name": "stdout",
     "output_type": "stream",
     "text": []
    },
    {
     "name": "stdout",
     "output_type": "stream",
     "text": []
    },
    {
     "name": "stdout",
     "output_type": "stream",
     "text": []
    },
    {
     "name": "stdout",
     "output_type": "stream",
     "text": []
    },
    {
     "name": "stdout",
     "output_type": "stream",
     "text": []
    },
    {
     "name": "stdout",
     "output_type": "stream",
     "text": []
    },
    {
     "name": "stdout",
     "output_type": "stream",
     "text": []
    },
    {
     "name": "stdout",
     "output_type": "stream",
     "text": []
    },
    {
     "name": "stdout",
     "output_type": "stream",
     "text": []
    },
    {
     "name": "stdout",
     "output_type": "stream",
     "text": []
    },
    {
     "name": "stdout",
     "output_type": "stream",
     "text": []
    },
    {
     "name": "stdout",
     "output_type": "stream",
     "text": []
    },
    {
     "name": "stdout",
     "output_type": "stream",
     "text": [
      "Collecting tensorflow_hub\n",
      "  Downloading tensorflow_hub-0.12.0-py2.py3-none-any.whl (108 kB)\n",
      "\u001b[K     |████████████████████████████████| 108 kB 2.4 MB/s eta 0:00:01\n",
      "\u001b[?25hRequirement already satisfied: numpy>=1.12.0 in /home/alan/miniconda3/envs/dev/lib/python3.7/site-packages (from tensorflow_hub) (1.19.2)\n",
      "Requirement already satisfied: protobuf>=3.8.0 in /home/alan/miniconda3/envs/dev/lib/python3.7/site-packages (from tensorflow_hub) (3.16.0)\n",
      "Requirement already satisfied: six>=1.9 in /home/alan/miniconda3/envs/dev/lib/python3.7/site-packages (from protobuf>=3.8.0->tensorflow_hub) (1.15.0)\n",
      "Installing collected packages: tensorflow-hub\n",
      "Successfully installed tensorflow-hub-0.12.0\n"
     ]
    }
   ],
   "source": [
    "!pip install --upgrade tensorflow_hub"
   ]
  },
  {
   "cell_type": "code",
   "execution_count": 1,
   "id": "2fc04006-0d3e-4511-8246-8e2a8f2a918c",
   "metadata": {},
   "outputs": [
    {
     "data": {
      "text/plain": [
       "'2.4.1'"
      ]
     },
     "execution_count": 1,
     "metadata": {},
     "output_type": "execute_result"
    }
   ],
   "source": [
    "import numpy as np\n",
    "import pandas as pd\n",
    "import seaborn as sn\n",
    "import matplotlib.pyplot as plt\n",
    "\n",
    "import tensorflow as tf\n",
    "from tensorflow import keras\n",
    "from tensorflow.keras.layers import Dropout, Dense, Conv2D, MaxPool2D, Input, Flatten\n",
    "from tensorflow.keras.preprocessing.image import ImageDataGenerator\n",
    "import tensorflow_hub as hub\n",
    "\n",
    "from sklearn.model_selection import train_test_split\n",
    "from sklearn import preprocessing\n",
    "from sklearn.metrics import f1_score, confusion_matrix\n",
    "\n",
    "import os\n",
    "from zipfile import ZipFile\n",
    "\n",
    "\n",
    "import mlflow\n",
    "import mlflow.keras\n",
    "from urllib.parse import urlparse\n",
    "\n",
    "%matplotlib inline\n",
    "tf.__version__"
   ]
  },
  {
   "cell_type": "code",
   "execution_count": 2,
   "id": "8d4d0bf9-fae3-4194-8e44-ebe6f464ff27",
   "metadata": {},
   "outputs": [
    {
     "name": "stdout",
     "output_type": "stream",
     "text": [
      "copy_dataset.sh  exp_fungo_videira.ipynb  material_apoio  __pycache__\n",
      "exemplos_net\t imagens\t\t  mlruns\n"
     ]
    }
   ],
   "source": [
    "!ls"
   ]
  },
  {
   "cell_type": "markdown",
   "id": "240e5d7d-b1da-4c04-9c71-828346c7235d",
   "metadata": {},
   "source": [
    "# Copy images to dataset directory"
   ]
  },
  {
   "cell_type": "code",
   "execution_count": 51,
   "id": "f7b2fc6e-9ae9-4028-980c-6c9063a30a40",
   "metadata": {
    "collapsed": true,
    "jupyter": {
     "outputs_hidden": true
    },
    "tags": []
   },
   "outputs": [
    {
     "name": "stdout",
     "output_type": "stream",
     "text": []
    },
    {
     "name": "stdout",
     "output_type": "stream",
     "text": []
    },
    {
     "name": "stdout",
     "output_type": "stream",
     "text": []
    },
    {
     "name": "stdout",
     "output_type": "stream",
     "text": []
    },
    {
     "name": "stdout",
     "output_type": "stream",
     "text": []
    },
    {
     "name": "stdout",
     "output_type": "stream",
     "text": []
    },
    {
     "name": "stdout",
     "output_type": "stream",
     "text": []
    },
    {
     "name": "stdout",
     "output_type": "stream",
     "text": []
    },
    {
     "name": "stdout",
     "output_type": "stream",
     "text": []
    },
    {
     "name": "stdout",
     "output_type": "stream",
     "text": []
    },
    {
     "name": "stdout",
     "output_type": "stream",
     "text": []
    },
    {
     "name": "stdout",
     "output_type": "stream",
     "text": []
    },
    {
     "name": "stdout",
     "output_type": "stream",
     "text": []
    },
    {
     "name": "stdout",
     "output_type": "stream",
     "text": []
    },
    {
     "name": "stdout",
     "output_type": "stream",
     "text": []
    },
    {
     "name": "stdout",
     "output_type": "stream",
     "text": []
    },
    {
     "name": "stdout",
     "output_type": "stream",
     "text": []
    },
    {
     "name": "stdout",
     "output_type": "stream",
     "text": []
    },
    {
     "name": "stdout",
     "output_type": "stream",
     "text": []
    },
    {
     "name": "stdout",
     "output_type": "stream",
     "text": []
    },
    {
     "name": "stdout",
     "output_type": "stream",
     "text": []
    },
    {
     "name": "stdout",
     "output_type": "stream",
     "text": []
    }
   ],
   "source": [
    "!chmod +x copy_dataset.sh\n",
    "!./copy_dataset.sh"
   ]
  },
  {
   "cell_type": "code",
   "execution_count": 27,
   "id": "196625ea-d406-4658-ab61-7e35b93a25ce",
   "metadata": {},
   "outputs": [],
   "source": [
    "tf.random.set_seed(42)"
   ]
  },
  {
   "cell_type": "markdown",
   "id": "4319a206-d904-48fd-a6fb-ac7c41ca595a",
   "metadata": {},
   "source": [
    "# Create DataFrame from Dir"
   ]
  },
  {
   "cell_type": "code",
   "execution_count": 28,
   "id": "191030f6-e219-499c-a7f6-6265af6f3345",
   "metadata": {},
   "outputs": [
    {
     "name": "stdout",
     "output_type": "stream",
     "text": [
      "  file_names    labels\n",
      "0  109_n.png  negativo\n",
      "1  128_n.png  negativo\n",
      "2  167_n.png  negativo\n",
      "\n",
      "Pos dataset shape: (77, 2)\n",
      " \n",
      "Final dataset shape: (158, 2)\n"
     ]
    }
   ],
   "source": [
    "path_dataset_negativo= './imagens/doenca_fungica_videira/negativo'\n",
    "dataset_negativo = os.listdir(path_dataset_negativo)\n",
    "     \n",
    "dataset_df_neg = pd.DataFrame({'file_names': dataset_negativo, 'labels': ['negativo']*len(dataset_negativo)})\n",
    "print('{}\\n'.format(dataset_df_neg.head(3)))\n",
    "\n",
    "path_dataset_positivo= './imagens/doenca_fungica_videira/positivo'\n",
    "dataset_positivo = os.listdir(path_dataset_positivo)\n",
    "     \n",
    "dataset_df_pos = pd.DataFrame({'file_names': dataset_positivo, 'labels': ['positivo']*len(dataset_positivo)})\n",
    "print('Pos dataset shape: {}\\n '.format(dataset_df_pos.shape))\n",
    "\n",
    "dataset_df = pd.concat([dataset_df_pos,dataset_df_neg],axis=0)\n",
    "print('Final dataset shape: {}'.format(dataset_df.shape))"
   ]
  },
  {
   "cell_type": "markdown",
   "id": "ee74b84a-be43-41f2-ad21-7e2d257a5e1f",
   "metadata": {},
   "source": [
    "# Split Train and Test DataSet"
   ]
  },
  {
   "cell_type": "code",
   "execution_count": 29,
   "id": "407a31e2-bce3-40de-9902-fec7f96ace58",
   "metadata": {},
   "outputs": [],
   "source": [
    "X_train, X_test, y_train, y_test= train_test_split(dataset_df['file_names'],dataset_df['labels'],test_size=0.2,shuffle=True)"
   ]
  },
  {
   "cell_type": "markdown",
   "id": "b91db05c-46b7-4b42-bf46-1321f7e63c21",
   "metadata": {},
   "source": [
    "# Create DataFrame for Train and Test Dataset"
   ]
  },
  {
   "cell_type": "code",
   "execution_count": 30,
   "id": "c6103a28-e7aa-416a-9f66-7e6b5bb65f64",
   "metadata": {},
   "outputs": [
    {
     "name": "stdout",
     "output_type": "stream",
     "text": [
      "train dataset \n",
      "negativo    66\n",
      "positivo    60\n",
      "Name: labels, dtype: int64\n",
      "test dataset \n",
      "positivo    17\n",
      "negativo    15\n",
      "Name: labels, dtype: int64\n"
     ]
    }
   ],
   "source": [
    "train_df = pd.concat([X_train,y_train],axis=1)\n",
    "print ('train dataset \\n{}'.format(train_df['labels'].value_counts()))\n",
    "\n",
    "test_df = pd.concat([X_test,y_test],axis=1)\n",
    "print('test dataset \\n{}'.format(test_df['labels'].value_counts()))"
   ]
  },
  {
   "cell_type": "markdown",
   "id": "d356bb69-05b7-4001-bcd0-236b9560dd09",
   "metadata": {},
   "source": [
    "# Data Image Generator from DataFrame"
   ]
  },
  {
   "cell_type": "code",
   "execution_count": null,
   "id": "a75c9c19-913d-4907-8029-637ff345e0ea",
   "metadata": {},
   "outputs": [],
   "source": []
  },
  {
   "cell_type": "code",
   "execution_count": 31,
   "id": "39c2cec9-36ff-495d-a709-2e5bd8633c11",
   "metadata": {},
   "outputs": [
    {
     "name": "stdout",
     "output_type": "stream",
     "text": [
      "Train DataSet Generator\n",
      "Found 126 validated image filenames belonging to 2 classes.\n",
      "dataset feature shape: (8, 32, 32, 3)\n",
      "dataset target shape: (8,)\n",
      "labels ['negativo', 'positivo']\n",
      "\n",
      "Test DataSet Generator\n",
      "Found 32 validated image filenames belonging to 2 classes.\n"
     ]
    }
   ],
   "source": [
    "path_dataset= './imagens/doenca_fungica_videira/dataset'\n",
    "datagen_train=ImageDataGenerator(rescale=1./255,\n",
    "                           rotation_range=0.2,                 \n",
    "                           width_shift_range=0.2,            \n",
    "                           height_shift_range=0.2,\n",
    "                           zoom_range=0.2,\n",
    "                           horizontal_flip=True)\n",
    "\n",
    "print (\"Train DataSet Generator\")\n",
    "train_data = datagen_train.flow_from_dataframe(dataframe=train_df, target_size=(32,32),batch_size=8,directory=path_dataset, x_col=\"file_names\",y_col=\"labels\", class_mode=\"binary\",seed=42)\n",
    "\n",
    "\n",
    "X,y=train_data.next() # X[photo x size_y x size_x x RBG] e y[photo x binary_class_2_bits]\n",
    "print (\"dataset feature shape: \" + str(X.shape))\n",
    "print (\"dataset target shape: \" + str(y.shape))\n",
    "\n",
    "\n",
    "labels = list(train_data.class_indices.keys())\n",
    "print('labels {}\\n'.format(labels))\n",
    "\n",
    "print (\"Test DataSet Generator\")\n",
    "datagen_test=ImageDataGenerator(rescale=1./255)\n",
    "test_data =datagen_test.flow_from_dataframe(dataframe=test_df, target_size=(32,32),batch_size=8,directory=path_dataset, x_col=\"file_names\",y_col=\"labels\", class_mode=\"binary\",seed=42)"
   ]
  },
  {
   "cell_type": "markdown",
   "id": "f92ea00e-bb5f-4115-8fe1-a22732a7ca77",
   "metadata": {},
   "source": [
    "# Creating Model 1 - Without transfer Learning"
   ]
  },
  {
   "cell_type": "markdown",
   "id": "9194a2d2-44b5-4387-ae16-1f1aabe6b4f5",
   "metadata": {},
   "source": [
    "## Create mlflow experiment"
   ]
  },
  {
   "cell_type": "code",
   "execution_count": null,
   "id": "a0835cee-2fa8-4bf9-8caa-0acba1877e41",
   "metadata": {},
   "outputs": [],
   "source": [
    "idExperiment = mlflow.create_experiment('CNN without Transfer Learning')"
   ]
  },
  {
   "cell_type": "code",
   "execution_count": 77,
   "id": "a3ee85cb-4897-4d14-bbdd-c361fec8a2f7",
   "metadata": {},
   "outputs": [
    {
     "data": {
      "text/plain": [
       "'0'"
      ]
     },
     "execution_count": 77,
     "metadata": {},
     "output_type": "execute_result"
    }
   ],
   "source": [
    "experiment=mlflow.get_experiment_by_name('CNN without Transfer Learning')\n",
    "idExperiment=experiment.experiment_id\n",
    "idExperiment"
   ]
  },
  {
   "cell_type": "markdown",
   "id": "25f1eac2-89ca-4f87-9bb3-76da69ea557b",
   "metadata": {},
   "source": [
    "## Hyperparameters"
   ]
  },
  {
   "cell_type": "code",
   "execution_count": 32,
   "id": "02837269-d1f7-41ce-a234-c54a8a9f2eda",
   "metadata": {},
   "outputs": [],
   "source": [
    "lr_1 = 0.00001\n",
    "epochs_1 = 130"
   ]
  },
  {
   "cell_type": "markdown",
   "id": "96f3a35a-0ae5-4b19-8640-b4a3fa4bcc55",
   "metadata": {},
   "source": [
    "## Sequential, compile and fit"
   ]
  },
  {
   "cell_type": "code",
   "execution_count": 34,
   "id": "eed3c5be-00cc-4935-b58e-59bddaa993d5",
   "metadata": {
    "collapsed": true,
    "jupyter": {
     "outputs_hidden": true
    },
    "tags": []
   },
   "outputs": [
    {
     "name": "stdout",
     "output_type": "stream",
     "text": [
      "Epoch 1/130\n",
      "16/16 - 5s - loss: 0.6930 - acc: 0.5317 - val_loss: 0.6935 - val_acc: 0.4688\n",
      "Epoch 2/130\n",
      "16/16 - 2s - loss: 0.6931 - acc: 0.5635 - val_loss: 0.6934 - val_acc: 0.4688\n",
      "Epoch 3/130\n",
      "16/16 - 2s - loss: 0.6930 - acc: 0.5476 - val_loss: 0.6935 - val_acc: 0.4688\n",
      "Epoch 4/130\n",
      "16/16 - 2s - loss: 0.6927 - acc: 0.5238 - val_loss: 0.6935 - val_acc: 0.4688\n",
      "Epoch 5/130\n",
      "16/16 - 2s - loss: 0.6928 - acc: 0.5079 - val_loss: 0.6934 - val_acc: 0.4688\n",
      "Epoch 6/130\n",
      "16/16 - 2s - loss: 0.6927 - acc: 0.5873 - val_loss: 0.6933 - val_acc: 0.4688\n",
      "Epoch 7/130\n",
      "16/16 - 2s - loss: 0.6924 - acc: 0.5873 - val_loss: 0.6932 - val_acc: 0.4688\n",
      "Epoch 8/130\n",
      "16/16 - 2s - loss: 0.6925 - acc: 0.5317 - val_loss: 0.6932 - val_acc: 0.4688\n",
      "Epoch 9/130\n",
      "16/16 - 3s - loss: 0.6931 - acc: 0.5238 - val_loss: 0.6931 - val_acc: 0.4688\n",
      "Epoch 10/130\n",
      "16/16 - 3s - loss: 0.6928 - acc: 0.5556 - val_loss: 0.6931 - val_acc: 0.4688\n",
      "Epoch 11/130\n",
      "16/16 - 2s - loss: 0.6921 - acc: 0.5635 - val_loss: 0.6929 - val_acc: 0.4688\n",
      "Epoch 12/130\n",
      "16/16 - 2s - loss: 0.6929 - acc: 0.4603 - val_loss: 0.6930 - val_acc: 0.4688\n",
      "Epoch 13/130\n",
      "16/16 - 2s - loss: 0.6923 - acc: 0.5794 - val_loss: 0.6929 - val_acc: 0.4688\n",
      "Epoch 14/130\n",
      "16/16 - 3s - loss: 0.6927 - acc: 0.5476 - val_loss: 0.6928 - val_acc: 0.4688\n",
      "Epoch 15/130\n",
      "16/16 - 2s - loss: 0.6920 - acc: 0.5714 - val_loss: 0.6927 - val_acc: 0.4688\n",
      "Epoch 16/130\n",
      "16/16 - 2s - loss: 0.6922 - acc: 0.5476 - val_loss: 0.6929 - val_acc: 0.4688\n",
      "Epoch 17/130\n",
      "16/16 - 2s - loss: 0.6923 - acc: 0.5079 - val_loss: 0.6929 - val_acc: 0.4688\n",
      "Epoch 18/130\n",
      "16/16 - 3s - loss: 0.6926 - acc: 0.5159 - val_loss: 0.6928 - val_acc: 0.4688\n",
      "Epoch 19/130\n",
      "16/16 - 2s - loss: 0.6920 - acc: 0.5952 - val_loss: 0.6925 - val_acc: 0.4688\n",
      "Epoch 20/130\n",
      "16/16 - 4s - loss: 0.6913 - acc: 0.5714 - val_loss: 0.6926 - val_acc: 0.4688\n",
      "Epoch 21/130\n",
      "16/16 - 2s - loss: 0.6928 - acc: 0.5556 - val_loss: 0.6925 - val_acc: 0.4688\n",
      "Epoch 22/130\n",
      "16/16 - 3s - loss: 0.6920 - acc: 0.5238 - val_loss: 0.6924 - val_acc: 0.4688\n",
      "Epoch 23/130\n",
      "16/16 - 2s - loss: 0.6923 - acc: 0.5079 - val_loss: 0.6924 - val_acc: 0.4688\n",
      "Epoch 24/130\n",
      "16/16 - 2s - loss: 0.6909 - acc: 0.5556 - val_loss: 0.6920 - val_acc: 0.4688\n",
      "Epoch 25/130\n",
      "16/16 - 2s - loss: 0.6920 - acc: 0.5635 - val_loss: 0.6915 - val_acc: 0.5000\n",
      "Epoch 26/130\n",
      "16/16 - 2s - loss: 0.6913 - acc: 0.5556 - val_loss: 0.6920 - val_acc: 0.4688\n",
      "Epoch 27/130\n",
      "16/16 - 3s - loss: 0.6911 - acc: 0.5556 - val_loss: 0.6914 - val_acc: 0.4688\n",
      "Epoch 28/130\n",
      "16/16 - 2s - loss: 0.6912 - acc: 0.5635 - val_loss: 0.6915 - val_acc: 0.4688\n",
      "Epoch 29/130\n",
      "16/16 - 2s - loss: 0.6911 - acc: 0.5397 - val_loss: 0.6915 - val_acc: 0.4688\n",
      "Epoch 30/130\n",
      "16/16 - 2s - loss: 0.6909 - acc: 0.5556 - val_loss: 0.6913 - val_acc: 0.4688\n",
      "Epoch 31/130\n",
      "16/16 - 2s - loss: 0.6913 - acc: 0.5476 - val_loss: 0.6910 - val_acc: 0.4688\n",
      "Epoch 32/130\n",
      "16/16 - 2s - loss: 0.6913 - acc: 0.5397 - val_loss: 0.6908 - val_acc: 0.4688\n",
      "Epoch 33/130\n",
      "16/16 - 2s - loss: 0.6903 - acc: 0.6190 - val_loss: 0.6901 - val_acc: 0.6250\n",
      "Epoch 34/130\n",
      "16/16 - 2s - loss: 0.6893 - acc: 0.5873 - val_loss: 0.6900 - val_acc: 0.5312\n",
      "Epoch 35/130\n",
      "16/16 - 2s - loss: 0.6905 - acc: 0.5476 - val_loss: 0.6895 - val_acc: 0.6250\n",
      "Epoch 36/130\n",
      "16/16 - 2s - loss: 0.6901 - acc: 0.5873 - val_loss: 0.6893 - val_acc: 0.5938\n",
      "Epoch 37/130\n",
      "16/16 - 2s - loss: 0.6899 - acc: 0.5794 - val_loss: 0.6886 - val_acc: 0.7188\n",
      "Epoch 38/130\n",
      "16/16 - 2s - loss: 0.6894 - acc: 0.6429 - val_loss: 0.6883 - val_acc: 0.6875\n",
      "Epoch 39/130\n",
      "16/16 - 2s - loss: 0.6880 - acc: 0.6429 - val_loss: 0.6884 - val_acc: 0.6250\n",
      "Epoch 40/130\n",
      "16/16 - 2s - loss: 0.6887 - acc: 0.5714 - val_loss: 0.6880 - val_acc: 0.6250\n",
      "Epoch 41/130\n",
      "16/16 - 2s - loss: 0.6875 - acc: 0.5873 - val_loss: 0.6871 - val_acc: 0.6875\n",
      "Epoch 42/130\n",
      "16/16 - 2s - loss: 0.6861 - acc: 0.6190 - val_loss: 0.6867 - val_acc: 0.6875\n",
      "Epoch 43/130\n",
      "16/16 - 2s - loss: 0.6878 - acc: 0.6349 - val_loss: 0.6861 - val_acc: 0.6875\n",
      "Epoch 44/130\n",
      "16/16 - 2s - loss: 0.6868 - acc: 0.5873 - val_loss: 0.6862 - val_acc: 0.5625\n",
      "Epoch 45/130\n",
      "16/16 - 2s - loss: 0.6841 - acc: 0.6270 - val_loss: 0.6848 - val_acc: 0.7500\n",
      "Epoch 46/130\n",
      "16/16 - 2s - loss: 0.6888 - acc: 0.6111 - val_loss: 0.6843 - val_acc: 0.7188\n",
      "Epoch 47/130\n",
      "16/16 - 2s - loss: 0.6869 - acc: 0.6270 - val_loss: 0.6837 - val_acc: 0.7188\n",
      "Epoch 48/130\n",
      "16/16 - 2s - loss: 0.6850 - acc: 0.6508 - val_loss: 0.6830 - val_acc: 0.7500\n",
      "Epoch 49/130\n",
      "16/16 - 3s - loss: 0.6841 - acc: 0.6190 - val_loss: 0.6824 - val_acc: 0.7188\n",
      "Epoch 50/130\n",
      "16/16 - 2s - loss: 0.6811 - acc: 0.6270 - val_loss: 0.6815 - val_acc: 0.7500\n",
      "Epoch 51/130\n",
      "16/16 - 3s - loss: 0.6817 - acc: 0.6587 - val_loss: 0.6803 - val_acc: 0.7500\n",
      "Epoch 52/130\n",
      "16/16 - 2s - loss: 0.6835 - acc: 0.7063 - val_loss: 0.6794 - val_acc: 0.7500\n",
      "Epoch 53/130\n",
      "16/16 - 3s - loss: 0.6812 - acc: 0.6587 - val_loss: 0.6791 - val_acc: 0.7188\n",
      "Epoch 54/130\n",
      "16/16 - 2s - loss: 0.6822 - acc: 0.6825 - val_loss: 0.6776 - val_acc: 0.7500\n",
      "Epoch 55/130\n",
      "16/16 - 3s - loss: 0.6795 - acc: 0.6429 - val_loss: 0.6765 - val_acc: 0.7188\n",
      "Epoch 56/130\n",
      "16/16 - 3s - loss: 0.6788 - acc: 0.6587 - val_loss: 0.6756 - val_acc: 0.7500\n",
      "Epoch 57/130\n",
      "16/16 - 3s - loss: 0.6768 - acc: 0.7302 - val_loss: 0.6745 - val_acc: 0.7188\n",
      "Epoch 58/130\n",
      "16/16 - 2s - loss: 0.6847 - acc: 0.5873 - val_loss: 0.6737 - val_acc: 0.7188\n",
      "Epoch 59/130\n",
      "16/16 - 2s - loss: 0.6758 - acc: 0.6667 - val_loss: 0.6724 - val_acc: 0.7188\n",
      "Epoch 60/130\n",
      "16/16 - 3s - loss: 0.6765 - acc: 0.6587 - val_loss: 0.6709 - val_acc: 0.7500\n",
      "Epoch 61/130\n",
      "16/16 - 2s - loss: 0.6727 - acc: 0.6746 - val_loss: 0.6693 - val_acc: 0.7188\n",
      "Epoch 62/130\n",
      "16/16 - 2s - loss: 0.6746 - acc: 0.6508 - val_loss: 0.6678 - val_acc: 0.7500\n",
      "Epoch 63/130\n",
      "16/16 - 2s - loss: 0.6687 - acc: 0.6984 - val_loss: 0.6660 - val_acc: 0.7500\n",
      "Epoch 64/130\n",
      "16/16 - 2s - loss: 0.6737 - acc: 0.6905 - val_loss: 0.6646 - val_acc: 0.7500\n",
      "Epoch 65/130\n",
      "16/16 - 2s - loss: 0.6655 - acc: 0.7143 - val_loss: 0.6624 - val_acc: 0.7500\n",
      "Epoch 66/130\n",
      "16/16 - 2s - loss: 0.6669 - acc: 0.6825 - val_loss: 0.6604 - val_acc: 0.7500\n",
      "Epoch 67/130\n",
      "16/16 - 2s - loss: 0.6692 - acc: 0.6905 - val_loss: 0.6589 - val_acc: 0.7500\n",
      "Epoch 68/130\n",
      "16/16 - 2s - loss: 0.6668 - acc: 0.6587 - val_loss: 0.6585 - val_acc: 0.7188\n",
      "Epoch 69/130\n",
      "16/16 - 2s - loss: 0.6648 - acc: 0.7302 - val_loss: 0.6540 - val_acc: 0.7500\n",
      "Epoch 70/130\n",
      "16/16 - 2s - loss: 0.6633 - acc: 0.7222 - val_loss: 0.6543 - val_acc: 0.7188\n",
      "Epoch 71/130\n",
      "16/16 - 2s - loss: 0.6706 - acc: 0.6825 - val_loss: 0.6507 - val_acc: 0.7188\n",
      "Epoch 72/130\n",
      "16/16 - 2s - loss: 0.6597 - acc: 0.6905 - val_loss: 0.6489 - val_acc: 0.7188\n",
      "Epoch 73/130\n",
      "16/16 - 2s - loss: 0.6564 - acc: 0.6825 - val_loss: 0.6459 - val_acc: 0.7188\n",
      "Epoch 74/130\n",
      "16/16 - 3s - loss: 0.6602 - acc: 0.6667 - val_loss: 0.6444 - val_acc: 0.7188\n",
      "Epoch 75/130\n",
      "16/16 - 2s - loss: 0.6563 - acc: 0.7143 - val_loss: 0.6407 - val_acc: 0.7188\n",
      "Epoch 76/130\n",
      "16/16 - 3s - loss: 0.6540 - acc: 0.6984 - val_loss: 0.6375 - val_acc: 0.7500\n",
      "Epoch 77/130\n",
      "16/16 - 2s - loss: 0.6520 - acc: 0.6587 - val_loss: 0.6377 - val_acc: 0.7188\n",
      "Epoch 78/130\n",
      "16/16 - 3s - loss: 0.6389 - acc: 0.7222 - val_loss: 0.6317 - val_acc: 0.7500\n",
      "Epoch 79/130\n",
      "16/16 - 2s - loss: 0.6434 - acc: 0.7063 - val_loss: 0.6296 - val_acc: 0.7188\n",
      "Epoch 80/130\n",
      "16/16 - 2s - loss: 0.6506 - acc: 0.6746 - val_loss: 0.6265 - val_acc: 0.6875\n",
      "Epoch 81/130\n",
      "16/16 - 2s - loss: 0.6370 - acc: 0.7381 - val_loss: 0.6226 - val_acc: 0.7500\n",
      "Epoch 82/130\n",
      "16/16 - 2s - loss: 0.6273 - acc: 0.7619 - val_loss: 0.6199 - val_acc: 0.7188\n",
      "Epoch 83/130\n",
      "16/16 - 3s - loss: 0.6305 - acc: 0.7302 - val_loss: 0.6164 - val_acc: 0.7188\n",
      "Epoch 84/130\n",
      "16/16 - 2s - loss: 0.6438 - acc: 0.6984 - val_loss: 0.6144 - val_acc: 0.7188\n",
      "Epoch 85/130\n",
      "16/16 - 2s - loss: 0.6253 - acc: 0.7302 - val_loss: 0.6122 - val_acc: 0.6875\n",
      "Epoch 86/130\n",
      "16/16 - 2s - loss: 0.6270 - acc: 0.7302 - val_loss: 0.6077 - val_acc: 0.7188\n",
      "Epoch 87/130\n",
      "16/16 - 2s - loss: 0.6302 - acc: 0.6984 - val_loss: 0.6046 - val_acc: 0.7500\n",
      "Epoch 88/130\n",
      "16/16 - 2s - loss: 0.6239 - acc: 0.6905 - val_loss: 0.6054 - val_acc: 0.7500\n",
      "Epoch 89/130\n",
      "16/16 - 2s - loss: 0.6281 - acc: 0.6508 - val_loss: 0.5999 - val_acc: 0.7188\n",
      "Epoch 90/130\n",
      "16/16 - 3s - loss: 0.6178 - acc: 0.7063 - val_loss: 0.5963 - val_acc: 0.7500\n",
      "Epoch 91/130\n",
      "16/16 - 2s - loss: 0.6207 - acc: 0.7143 - val_loss: 0.5961 - val_acc: 0.7188\n",
      "Epoch 92/130\n",
      "16/16 - 3s - loss: 0.6159 - acc: 0.7063 - val_loss: 0.5923 - val_acc: 0.7188\n",
      "Epoch 93/130\n",
      "16/16 - 3s - loss: 0.6218 - acc: 0.7460 - val_loss: 0.5882 - val_acc: 0.7500\n",
      "Epoch 94/130\n",
      "16/16 - 2s - loss: 0.6295 - acc: 0.7063 - val_loss: 0.5895 - val_acc: 0.7188\n",
      "Epoch 95/130\n",
      "16/16 - 3s - loss: 0.6189 - acc: 0.6984 - val_loss: 0.5887 - val_acc: 0.7188\n",
      "Epoch 96/130\n",
      "16/16 - 2s - loss: 0.6143 - acc: 0.6905 - val_loss: 0.5869 - val_acc: 0.7500\n",
      "Epoch 97/130\n",
      "16/16 - 4s - loss: 0.6159 - acc: 0.6825 - val_loss: 0.5821 - val_acc: 0.7188\n",
      "Epoch 98/130\n",
      "16/16 - 2s - loss: 0.6356 - acc: 0.6667 - val_loss: 0.5878 - val_acc: 0.7500\n",
      "Epoch 99/130\n",
      "16/16 - 2s - loss: 0.5966 - acc: 0.7222 - val_loss: 0.5845 - val_acc: 0.7500\n",
      "Epoch 100/130\n",
      "16/16 - 2s - loss: 0.6056 - acc: 0.7381 - val_loss: 0.5757 - val_acc: 0.7188\n",
      "Epoch 101/130\n",
      "16/16 - 2s - loss: 0.6233 - acc: 0.6825 - val_loss: 0.5838 - val_acc: 0.7500\n",
      "Epoch 102/130\n",
      "16/16 - 2s - loss: 0.5983 - acc: 0.7063 - val_loss: 0.5759 - val_acc: 0.7500\n",
      "Epoch 103/130\n",
      "16/16 - 3s - loss: 0.6032 - acc: 0.7143 - val_loss: 0.5708 - val_acc: 0.7188\n",
      "Epoch 104/130\n",
      "16/16 - 2s - loss: 0.5889 - acc: 0.7460 - val_loss: 0.5753 - val_acc: 0.7500\n",
      "Epoch 105/130\n",
      "16/16 - 2s - loss: 0.6029 - acc: 0.6984 - val_loss: 0.5670 - val_acc: 0.7188\n",
      "Epoch 106/130\n",
      "16/16 - 2s - loss: 0.5865 - acc: 0.7063 - val_loss: 0.5688 - val_acc: 0.7500\n",
      "Epoch 107/130\n",
      "16/16 - 2s - loss: 0.5878 - acc: 0.7222 - val_loss: 0.5620 - val_acc: 0.7500\n",
      "Epoch 108/130\n",
      "16/16 - 3s - loss: 0.5892 - acc: 0.7460 - val_loss: 0.5644 - val_acc: 0.7188\n",
      "Epoch 109/130\n",
      "16/16 - 2s - loss: 0.6117 - acc: 0.7063 - val_loss: 0.5691 - val_acc: 0.7500\n",
      "Epoch 110/130\n",
      "16/16 - 2s - loss: 0.5858 - acc: 0.7778 - val_loss: 0.5662 - val_acc: 0.7500\n",
      "Epoch 111/130\n",
      "16/16 - 2s - loss: 0.6081 - acc: 0.7302 - val_loss: 0.5770 - val_acc: 0.7188\n",
      "Epoch 112/130\n",
      "16/16 - 2s - loss: 0.5908 - acc: 0.7381 - val_loss: 0.5595 - val_acc: 0.7188\n",
      "Epoch 113/130\n",
      "16/16 - 2s - loss: 0.5933 - acc: 0.6984 - val_loss: 0.5671 - val_acc: 0.7500\n",
      "Epoch 114/130\n",
      "16/16 - 2s - loss: 0.5717 - acc: 0.7302 - val_loss: 0.5546 - val_acc: 0.7500\n",
      "Epoch 115/130\n",
      "16/16 - 2s - loss: 0.5731 - acc: 0.7540 - val_loss: 0.5556 - val_acc: 0.7188\n",
      "Epoch 116/130\n",
      "16/16 - 2s - loss: 0.5771 - acc: 0.7619 - val_loss: 0.5549 - val_acc: 0.7188\n",
      "Epoch 117/130\n",
      "16/16 - 2s - loss: 0.5839 - acc: 0.7222 - val_loss: 0.5652 - val_acc: 0.7500\n",
      "Epoch 118/130\n",
      "16/16 - 2s - loss: 0.5779 - acc: 0.7381 - val_loss: 0.5497 - val_acc: 0.7500\n",
      "Epoch 119/130\n",
      "16/16 - 2s - loss: 0.5605 - acc: 0.7222 - val_loss: 0.5640 - val_acc: 0.7500\n",
      "Epoch 120/130\n",
      "16/16 - 3s - loss: 0.5950 - acc: 0.6825 - val_loss: 0.5553 - val_acc: 0.7188\n",
      "Epoch 121/130\n",
      "16/16 - 2s - loss: 0.5821 - acc: 0.7143 - val_loss: 0.5643 - val_acc: 0.7500\n",
      "Epoch 122/130\n",
      "16/16 - 2s - loss: 0.5988 - acc: 0.6905 - val_loss: 0.5586 - val_acc: 0.7500\n",
      "Epoch 123/130\n",
      "16/16 - 2s - loss: 0.5739 - acc: 0.7222 - val_loss: 0.5506 - val_acc: 0.7500\n",
      "Epoch 124/130\n",
      "16/16 - 2s - loss: 0.5666 - acc: 0.7302 - val_loss: 0.5481 - val_acc: 0.7500\n",
      "Epoch 125/130\n",
      "16/16 - 2s - loss: 0.5734 - acc: 0.7381 - val_loss: 0.5739 - val_acc: 0.6875\n",
      "Epoch 126/130\n",
      "16/16 - 2s - loss: 0.5406 - acc: 0.7540 - val_loss: 0.5424 - val_acc: 0.7812\n",
      "Epoch 127/130\n",
      "16/16 - 2s - loss: 0.5888 - acc: 0.7143 - val_loss: 0.5588 - val_acc: 0.7500\n",
      "Epoch 128/130\n",
      "16/16 - 2s - loss: 0.5740 - acc: 0.7540 - val_loss: 0.5539 - val_acc: 0.7500\n",
      "Epoch 129/130\n",
      "16/16 - 2s - loss: 0.5841 - acc: 0.6984 - val_loss: 0.5625 - val_acc: 0.7500\n",
      "Epoch 130/130\n",
      "16/16 - 3s - loss: 0.5499 - acc: 0.7381 - val_loss: 0.5415 - val_acc: 0.7812\n"
     ]
    },
    {
     "data": {
      "text/plain": [
       "<AxesSubplot:>"
      ]
     },
     "execution_count": 34,
     "metadata": {},
     "output_type": "execute_result"
    },
    {
     "data": {
      "image/png": "[encoded data removed]",
      "text/plain": [
       "<Figure size 720x504 with 1 Axes>"
      ]
     },
     "metadata": {
      "needs_background": "light"
     },
     "output_type": "display_data"
    }
   ],
   "source": [
    "model_1=tf.keras.models.Sequential([\n",
    "               Input(X.shape[1:]),\n",
    "               Conv2D(filters=64, kernel_size=3, padding=\"same\", activation=\"relu\"),\n",
    "               MaxPool2D(2,2),\n",
    "               Conv2D(filters=128, kernel_size=3, padding=\"same\", activation=\"relu\"),\n",
    "               MaxPool2D(2,2),\n",
    "               Conv2D(filters=128, kernel_size=3, padding=\"same\", activation=\"relu\"),\n",
    "               MaxPool2D(2,2),\n",
    "               Conv2D(filters=128, kernel_size=3, padding=\"same\", activation=\"relu\"),\n",
    "               MaxPool2D(2,2),\n",
    "               Conv2D(filters=64, kernel_size=3, padding=\"same\", activation=\"relu\"),\n",
    "               MaxPool2D(2,2),\n",
    "               Conv2D(filters=64, kernel_size=3, padding=\"same\", activation=\"relu\"),\n",
    "               Flatten(),\n",
    "               Dense(units=64, activation='relu'),\n",
    "               Dropout(0.4),\n",
    "               Dense(units=16, activation='relu'),\n",
    "               Dense(1,activation='sigmoid')\n",
    "        ])\n",
    "\n",
    "model_1.compile(loss=\"binary_crossentropy\", optimizer=tf.keras.optimizers.Adam(learning_rate=lr_1), metrics=[\"acc\"])\n",
    "\n",
    "history_1 = model_1.fit(train_data,\n",
    "                        epochs=epochs_1,\n",
    "                        steps_per_epoch=len(train_data),\n",
    "                        validation_data=test_data,\n",
    "                        validation_steps=len(test_data),verbose=2)\n",
    "\n",
    "\n",
    "\n",
    "history_1_df = pd.DataFrame(history_1.history)\n",
    "history_1_df.to_csv('temp/history_{}.txt'.format(idExperiment))\n",
    "history_1_df.plot(figsize=(10, 7))"
   ]
  },
  {
   "cell_type": "markdown",
   "id": "66dfb9b8-8f0d-4ce7-a571-d91db5a52619",
   "metadata": {},
   "source": [
    "## Metrics"
   ]
  },
  {
   "cell_type": "code",
   "execution_count": 35,
   "id": "43c0ec89-3316-4f37-acc5-7b97c6ea1e76",
   "metadata": {},
   "outputs": [],
   "source": [
    "def preprocess_image(image_path,size):\n",
    "    img = keras.preprocessing.image.load_img(image_path, target_size=(size, size))\n",
    "    img = keras.preprocessing.image.img_to_array(img)\n",
    "    img = img/255.\n",
    "    img = np.expand_dims(img, axis=0)\n",
    "    return tf.convert_to_tensor(img)\n",
    "\n",
    "def test_samples(model):\n",
    "    for class_val in ['neg','pos']:\n",
    "        for seq in range(1,4):\n",
    "            img = preprocess_image(\"exemplos_net/{}_{}.png\".format(class_val,seq),32)\n",
    "            if class_val=='neg':\n",
    "                print('Negative values - Prediction: ' + labels[int(np.round(model.predict(img)))])\n",
    "            else:\n",
    "                print('Positive values - Prediction: ' + labels[int(np.round(model.predict(img)))])\n",
    "\n",
    "def get_test_y_pred(model,test_gen):\n",
    "\n",
    "    test_x =[]\n",
    "    test_y =[]\n",
    "    for i in range(0,len(test_data)):\n",
    "        test_x.extend(np.array(test_data[i][0]))\n",
    "        test_y.extend(np.array(test_data[i][1]))\n",
    "    test_x=np.array(test_x)\n",
    "    test_y=np.array(test_y)\n",
    "    \n",
    "    pred = np.round(model.predict(test_x))\n",
    "    pred = pred.ravel()\n",
    "    return test_y,pred"
   ]
  },
  {
   "cell_type": "code",
   "execution_count": 80,
   "id": "c9669a5e-a606-4438-829e-7a51db7272ec",
   "metadata": {},
   "outputs": [
    {
     "name": "stdout",
     "output_type": "stream",
     "text": [
      "Negative values - Prediction: negativo\n",
      "Negative values - Prediction: negativo\n",
      "Negative values - Prediction: negativo\n",
      "Positive values - Prediction: positivo\n",
      "Positive values - Prediction: positivo\n",
      "Positive values - Prediction: positivo\n"
     ]
    }
   ],
   "source": [
    "test_samples(model_1)"
   ]
  },
  {
   "cell_type": "code",
   "execution_count": 81,
   "id": "be094b5a-3edf-40ba-ade4-18a3abe9d019",
   "metadata": {},
   "outputs": [
    {
     "name": "stdout",
     "output_type": "stream",
     "text": [
      "[1. 1. 1. 1. 0. 1. 0. 0. 0. 0. 0. 0. 0. 0. 1. 1. 1. 1. 1. 1. 0. 1. 0. 1.\n",
      " 1. 1. 1. 0. 0. 1. 0. 0.]\n",
      "[1. 1. 0. 1. 0. 1. 1. 0. 0. 1. 0. 1. 0. 0. 1. 1. 1. 1. 1. 1. 1. 1. 0. 1.\n",
      " 1. 1. 0. 0. 0. 0. 0. 0.]\n"
     ]
    }
   ],
   "source": [
    "test_y, test_pred_1 =  get_test_y_pred(model_1,test_data)\n",
    "print(test_y)\n",
    "print(test_pred_1)"
   ]
  },
  {
   "cell_type": "code",
   "execution_count": 82,
   "id": "f3b9fa8b-25c0-4965-90e0-a57d1b0245bf",
   "metadata": {},
   "outputs": [
    {
     "data": {
      "text/plain": [
       "Text(0.5, 15.0, 'Predicted')"
      ]
     },
     "execution_count": 82,
     "metadata": {},
     "output_type": "execute_result"
    },
    {
     "data": {
      "image/png": "[encoded data removed]",
      "text/plain": [
       "<Figure size 432x288 with 2 Axes>"
      ]
     },
     "metadata": {
      "needs_background": "light"
     },
     "output_type": "display_data"
    }
   ],
   "source": [
    "sn.heatmap(confusion_matrix(test_y,test_pred_1),annot=True,cmap=\"YlGnBu\")\n",
    "plt.ylabel('True')\n",
    "plt.xlabel('Predicted')"
   ]
  },
  {
   "cell_type": "code",
   "execution_count": 83,
   "id": "18bc98c2-caf9-4058-9387-253f61bc276f",
   "metadata": {},
   "outputs": [
    {
     "data": {
      "text/plain": [
       "0.7999999999999999"
      ]
     },
     "execution_count": 83,
     "metadata": {},
     "output_type": "execute_result"
    }
   ],
   "source": [
    "f1_score(test_y,test_pred_1)"
   ]
  },
  {
   "cell_type": "code",
   "execution_count": 16,
   "id": "c23c5c7c-7ae0-4ba8-8494-3274b4d73f06",
   "metadata": {},
   "outputs": [],
   "source": [
    "#keras.models.save_model(model_1,'./models/model_1')\n",
    "#model_1=keras.models.load_model('modelos/without')"
   ]
  },
  {
   "cell_type": "markdown",
   "id": "d3b026cc-61d1-42c9-982d-a0a345be73ac",
   "metadata": {},
   "source": [
    "## Log Mlflow"
   ]
  },
  {
   "cell_type": "code",
   "execution_count": 72,
   "id": "1ecfb142-397b-4e71-9e39-42e0f6cdce31",
   "metadata": {},
   "outputs": [],
   "source": [
    "def log_experiment(id_exp,lr,epochs,model,history,test_y,test_pred):\n",
    "    with mlflow.start_run(experiment_id=id_exp):\n",
    "\n",
    "        mlflow.log_param(\"lr\", lr)\n",
    "        mlflow.log_param(\"ephocs\", epochs)\n",
    "\n",
    "        mlflow.log_metric(\"loss\", history.history['loss'][-1])\n",
    "        mlflow.log_metric(\"acc\", history.history['acc'][-1])\n",
    "        mlflow.log_metric(\"f1_score\", f1_score(test_y,test_pred))\n",
    "        \n",
    "        mlflow.log_artifact(\"temp/history_{}.txt\".format(id_exp), artifact_path=\"logs\")\n",
    "        \n",
    "        \n",
    "        summary=pd.DataFrame(columns=[\"Name\",\"Type\",\"Shape\"])\n",
    "        for layer in model_1.layers:\n",
    "            summary = summary.append({\"Name\":layer.name, \"Type\": layer.__class__.__name__,\"Shape\":layer.output_shape}, ignore_index=True)\n",
    "        summary.to_csv('temp/summary_{}.txt'.format(id_exp))\n",
    "        mlflow.log_artifact('temp/summary_{}.txt'.format(id_exp), artifact_path=\"summary\")\n",
    "\n",
    "        mlflow.keras.log_model(model_1,'model')"
   ]
  },
  {
   "cell_type": "code",
   "execution_count": 84,
   "id": "f07e25f4-78b4-40a7-acf3-243b175f2f62",
   "metadata": {},
   "outputs": [
    {
     "name": "stdout",
     "output_type": "stream",
     "text": [
      "INFO:tensorflow:Assets written to: /tmp/tmphorco0h1/model/data/model/assets\n"
     ]
    },
    {
     "name": "stderr",
     "output_type": "stream",
     "text": [
      "INFO:tensorflow:Assets written to: /tmp/tmphorco0h1/model/data/model/assets\n"
     ]
    }
   ],
   "source": [
    "log_experiment(idExperiment,lr_1,epochs_1,model_1,history_1, test_y,test_pred_1)"
   ]
  },
  {
   "cell_type": "markdown",
   "id": "4df6fe6e-5e1e-4d7b-b049-4f66e3e3a2d3",
   "metadata": {},
   "source": [
    "# Creating Model 2 - With transfer Learning"
   ]
  },
  {
   "cell_type": "markdown",
   "id": "d65ea747-2e00-4ff0-8061-01377e961e97",
   "metadata": {},
   "source": [
    "## Create mlflow experiment"
   ]
  },
  {
   "cell_type": "code",
   "execution_count": null,
   "id": "f04799ca-c6b4-47a6-b0b4-6a95e9c971bc",
   "metadata": {},
   "outputs": [],
   "source": [
    "idExperiment = mlflow.create_experiment('CNN with Transfer Learning')"
   ]
  },
  {
   "cell_type": "code",
   "execution_count": null,
   "id": "e0faa960-36f6-4280-8bd4-a9c6046e3f2d",
   "metadata": {},
   "outputs": [],
   "source": []
  },
  {
   "cell_type": "markdown",
   "id": "86ec60c9-8bfb-44b7-a0de-760433a9342b",
   "metadata": {},
   "source": [
    "## Hyperparameters"
   ]
  },
  {
   "cell_type": "code",
   "execution_count": 46,
   "id": "eff8fe8d-91d6-4736-9162-5fb754678a3d",
   "metadata": {},
   "outputs": [],
   "source": [
    "lr_2 = 0.0001\n",
    "epochs_2 = 50\n",
    "efficientnet_url = \"https://tfhub.dev/tensorflow/efficientnet/b0/feature-vector/1\""
   ]
  },
  {
   "cell_type": "code",
   "execution_count": 75,
   "id": "70b2577d-e686-4598-83d2-ffb794628584",
   "metadata": {},
   "outputs": [
    {
     "data": {
      "text/plain": [
       "'1'"
      ]
     },
     "execution_count": 75,
     "metadata": {},
     "output_type": "execute_result"
    }
   ],
   "source": [
    "experiment=mlflow.get_experiment_by_name('CNN with Transfer Learning')\n",
    "idExperiment=experiment.experiment_id\n",
    "idExperiment"
   ]
  },
  {
   "cell_type": "code",
   "execution_count": 47,
   "id": "835e7aee-6d6d-480e-b390-805949cb2d99",
   "metadata": {},
   "outputs": [],
   "source": [
    "def create_model(model_url,image_shape):\n",
    "  # Download the pretrained model and save it as a Keras layer\n",
    "  feature_extractor_layer = hub.KerasLayer(model_url,\n",
    "                                           trainable=False, # freeze the underlying patterns\n",
    "                                           name='feature_extraction_layer',\n",
    "                                           input_shape=image_shape) # define the input image shape\n",
    "  \n",
    "  # Create our own model\n",
    "  model = tf.keras.Sequential([\n",
    "    feature_extractor_layer, # use the feature extraction layer as the base\n",
    "    Dense(units=64, activation='relu'),\n",
    "    Dense(units=64, activation='relu'),\n",
    "    Dense(1, activation='sigmoid', name='output_layer') # create our own output layer      \n",
    "  ])\n",
    "\n",
    "  return model"
   ]
  },
  {
   "cell_type": "code",
   "execution_count": 48,
   "id": "6fb22dd6-b565-4089-8c84-1219774995b5",
   "metadata": {
    "collapsed": true,
    "jupyter": {
     "outputs_hidden": true
    },
    "tags": []
   },
   "outputs": [
    {
     "name": "stdout",
     "output_type": "stream",
     "text": [
      "WARNING:tensorflow:AutoGraph could not transform <bound method KerasLayer.call of <tensorflow_hub.keras_layer.KerasLayer object at 0x7ffb21401810>> and will run it as-is.\n",
      "Please report this to the TensorFlow team. When filing the bug, set the verbosity to 10 (on Linux, `export AUTOGRAPH_VERBOSITY=10`) and attach the full output.\n",
      "Cause: module 'gast' has no attribute 'Index'\n",
      "To silence this warning, decorate the function with @tf.autograph.experimental.do_not_convert\n"
     ]
    },
    {
     "name": "stderr",
     "output_type": "stream",
     "text": [
      "WARNING:tensorflow:AutoGraph could not transform <bound method KerasLayer.call of <tensorflow_hub.keras_layer.KerasLayer object at 0x7ffb21401810>> and will run it as-is.\n",
      "Please report this to the TensorFlow team. When filing the bug, set the verbosity to 10 (on Linux, `export AUTOGRAPH_VERBOSITY=10`) and attach the full output.\n",
      "Cause: module 'gast' has no attribute 'Index'\n",
      "To silence this warning, decorate the function with @tf.autograph.experimental.do_not_convert\n"
     ]
    },
    {
     "name": "stdout",
     "output_type": "stream",
     "text": [
      "WARNING: AutoGraph could not transform <bound method KerasLayer.call of <tensorflow_hub.keras_layer.KerasLayer object at 0x7ffb21401810>> and will run it as-is.\n",
      "Please report this to the TensorFlow team. When filing the bug, set the verbosity to 10 (on Linux, `export AUTOGRAPH_VERBOSITY=10`) and attach the full output.\n",
      "Cause: module 'gast' has no attribute 'Index'\n",
      "To silence this warning, decorate the function with @tf.autograph.experimental.do_not_convert\n",
      "Epoch 1/50\n",
      "16/16 - 21s - loss: 0.6917 - acc: 0.5397 - val_loss: 0.6795 - val_acc: 0.8125\n",
      "Epoch 2/50\n",
      "16/16 - 4s - loss: 0.6742 - acc: 0.6667 - val_loss: 0.6779 - val_acc: 0.6875\n",
      "Epoch 3/50\n",
      "16/16 - 4s - loss: 0.6675 - acc: 0.6587 - val_loss: 0.6722 - val_acc: 0.5938\n",
      "Epoch 4/50\n",
      "16/16 - 3s - loss: 0.6525 - acc: 0.7063 - val_loss: 0.6629 - val_acc: 0.7500\n",
      "Epoch 5/50\n",
      "16/16 - 4s - loss: 0.6517 - acc: 0.6905 - val_loss: 0.6626 - val_acc: 0.6875\n",
      "Epoch 6/50\n",
      "16/16 - 4s - loss: 0.6393 - acc: 0.7063 - val_loss: 0.6524 - val_acc: 0.7500\n",
      "Epoch 7/50\n",
      "16/16 - 3s - loss: 0.6268 - acc: 0.7698 - val_loss: 0.6409 - val_acc: 0.6875\n",
      "Epoch 8/50\n",
      "16/16 - 4s - loss: 0.6240 - acc: 0.7619 - val_loss: 0.6310 - val_acc: 0.7500\n",
      "Epoch 9/50\n",
      "16/16 - 4s - loss: 0.6059 - acc: 0.7698 - val_loss: 0.6232 - val_acc: 0.6875\n",
      "Epoch 10/50\n",
      "16/16 - 4s - loss: 0.6101 - acc: 0.7222 - val_loss: 0.6222 - val_acc: 0.7188\n",
      "Epoch 11/50\n",
      "16/16 - 4s - loss: 0.5993 - acc: 0.6984 - val_loss: 0.6260 - val_acc: 0.6875\n",
      "Epoch 12/50\n",
      "16/16 - 3s - loss: 0.5727 - acc: 0.7778 - val_loss: 0.6086 - val_acc: 0.7188\n",
      "Epoch 13/50\n",
      "16/16 - 3s - loss: 0.5612 - acc: 0.7857 - val_loss: 0.6054 - val_acc: 0.6562\n",
      "Epoch 14/50\n",
      "16/16 - 4s - loss: 0.5675 - acc: 0.6905 - val_loss: 0.5928 - val_acc: 0.7500\n",
      "Epoch 15/50\n",
      "16/16 - 3s - loss: 0.5453 - acc: 0.7778 - val_loss: 0.5887 - val_acc: 0.6875\n",
      "Epoch 16/50\n",
      "16/16 - 4s - loss: 0.5580 - acc: 0.7063 - val_loss: 0.5835 - val_acc: 0.6875\n",
      "Epoch 17/50\n",
      "16/16 - 4s - loss: 0.5354 - acc: 0.7619 - val_loss: 0.5940 - val_acc: 0.6875\n",
      "Epoch 18/50\n",
      "16/16 - 3s - loss: 0.5117 - acc: 0.7937 - val_loss: 0.5705 - val_acc: 0.7188\n",
      "Epoch 19/50\n",
      "16/16 - 6s - loss: 0.5368 - acc: 0.7619 - val_loss: 0.5696 - val_acc: 0.6875\n",
      "Epoch 20/50\n",
      "16/16 - 5s - loss: 0.5173 - acc: 0.7778 - val_loss: 0.5622 - val_acc: 0.6875\n",
      "Epoch 21/50\n",
      "16/16 - 4s - loss: 0.4886 - acc: 0.8254 - val_loss: 0.5570 - val_acc: 0.7188\n",
      "Epoch 22/50\n",
      "16/16 - 6s - loss: 0.4818 - acc: 0.8333 - val_loss: 0.5591 - val_acc: 0.6875\n",
      "Epoch 23/50\n",
      "16/16 - 5s - loss: 0.4976 - acc: 0.7778 - val_loss: 0.5623 - val_acc: 0.6562\n",
      "Epoch 24/50\n",
      "16/16 - 4s - loss: 0.5214 - acc: 0.7222 - val_loss: 0.5503 - val_acc: 0.7188\n",
      "Epoch 25/50\n",
      "16/16 - 3s - loss: 0.4961 - acc: 0.8016 - val_loss: 0.5502 - val_acc: 0.6875\n",
      "Epoch 26/50\n",
      "16/16 - 5s - loss: 0.4898 - acc: 0.7698 - val_loss: 0.5462 - val_acc: 0.7188\n",
      "Epoch 27/50\n",
      "16/16 - 3s - loss: 0.4607 - acc: 0.7778 - val_loss: 0.5514 - val_acc: 0.7500\n",
      "Epoch 28/50\n",
      "16/16 - 4s - loss: 0.4718 - acc: 0.8016 - val_loss: 0.5499 - val_acc: 0.7500\n",
      "Epoch 29/50\n",
      "16/16 - 4s - loss: 0.4892 - acc: 0.8175 - val_loss: 0.5494 - val_acc: 0.7500\n",
      "Epoch 30/50\n",
      "16/16 - 3s - loss: 0.4573 - acc: 0.8254 - val_loss: 0.5434 - val_acc: 0.7500\n",
      "Epoch 31/50\n",
      "16/16 - 3s - loss: 0.5145 - acc: 0.7381 - val_loss: 0.5422 - val_acc: 0.7500\n",
      "Epoch 32/50\n",
      "16/16 - 4s - loss: 0.4361 - acc: 0.7937 - val_loss: 0.5414 - val_acc: 0.7812\n",
      "Epoch 33/50\n",
      "16/16 - 5s - loss: 0.4555 - acc: 0.8016 - val_loss: 0.5464 - val_acc: 0.7500\n",
      "Epoch 34/50\n",
      "16/16 - 5s - loss: 0.4472 - acc: 0.8016 - val_loss: 0.5535 - val_acc: 0.7500\n",
      "Epoch 35/50\n",
      "16/16 - 4s - loss: 0.4486 - acc: 0.8333 - val_loss: 0.5432 - val_acc: 0.7500\n",
      "Epoch 36/50\n",
      "16/16 - 4s - loss: 0.4490 - acc: 0.8095 - val_loss: 0.5442 - val_acc: 0.7500\n",
      "Epoch 37/50\n",
      "16/16 - 4s - loss: 0.4164 - acc: 0.8175 - val_loss: 0.5322 - val_acc: 0.7500\n",
      "Epoch 38/50\n",
      "16/16 - 4s - loss: 0.4185 - acc: 0.8651 - val_loss: 0.5478 - val_acc: 0.7500\n",
      "Epoch 39/50\n",
      "16/16 - 4s - loss: 0.4114 - acc: 0.8413 - val_loss: 0.5433 - val_acc: 0.6562\n",
      "Epoch 40/50\n",
      "16/16 - 4s - loss: 0.4013 - acc: 0.8016 - val_loss: 0.5493 - val_acc: 0.7500\n",
      "Epoch 41/50\n",
      "16/16 - 4s - loss: 0.3927 - acc: 0.8333 - val_loss: 0.5433 - val_acc: 0.7500\n",
      "Epoch 42/50\n",
      "16/16 - 5s - loss: 0.4218 - acc: 0.8254 - val_loss: 0.5515 - val_acc: 0.7500\n",
      "Epoch 43/50\n",
      "16/16 - 5s - loss: 0.4233 - acc: 0.8175 - val_loss: 0.5496 - val_acc: 0.7500\n",
      "Epoch 44/50\n",
      "16/16 - 3s - loss: 0.4015 - acc: 0.8333 - val_loss: 0.5515 - val_acc: 0.7500\n",
      "Epoch 45/50\n",
      "16/16 - 4s - loss: 0.3658 - acc: 0.8651 - val_loss: 0.5366 - val_acc: 0.7188\n",
      "Epoch 46/50\n",
      "16/16 - 4s - loss: 0.4221 - acc: 0.8095 - val_loss: 0.5580 - val_acc: 0.7188\n",
      "Epoch 47/50\n",
      "16/16 - 4s - loss: 0.4067 - acc: 0.8254 - val_loss: 0.5356 - val_acc: 0.7500\n",
      "Epoch 48/50\n",
      "16/16 - 3s - loss: 0.4086 - acc: 0.7937 - val_loss: 0.5764 - val_acc: 0.7500\n",
      "Epoch 49/50\n",
      "16/16 - 4s - loss: 0.4243 - acc: 0.8175 - val_loss: 0.5423 - val_acc: 0.7500\n",
      "Epoch 50/50\n",
      "16/16 - 3s - loss: 0.4075 - acc: 0.8254 - val_loss: 0.5418 - val_acc: 0.7500\n"
     ]
    },
    {
     "data": {
      "text/plain": [
       "<AxesSubplot:>"
      ]
     },
     "execution_count": 48,
     "metadata": {},
     "output_type": "execute_result"
    },
    {
     "data": {
      "image/png": "[encoded data removed]",
      "text/plain": [
       "<Figure size 720x504 with 1 Axes>"
      ]
     },
     "metadata": {
      "needs_background": "light"
     },
     "output_type": "display_data"
    }
   ],
   "source": [
    "model_2 = create_model(model_url=efficientnet_url, # use EfficientNetB0 TensorFlow Hub URL\n",
    "                                  image_shape=X.shape[1:])\n",
    "\n",
    "model_2.compile(loss='binary_crossentropy',\n",
    "                           optimizer=tf.keras.optimizers.Adam(learning_rate=lr_2),\n",
    "                           metrics=['acc'])\n",
    "\n",
    "history_2 = model_2.fit(train_data,\n",
    "                        epochs=epochs_2,\n",
    "                        steps_per_epoch=len(train_data),\n",
    "                        validation_data=test_data,\n",
    "                        validation_steps=len(test_data),verbose=2)\n",
    "\n",
    "\n",
    "history_2_df = pd.DataFrame(history_2.history)\n",
    "history_2_df.to_csv('temp/history_{}.txt'.format(idExperiment))\n",
    "history_2_df.plot(figsize=(10, 7))"
   ]
  },
  {
   "cell_type": "markdown",
   "id": "f1b42214-d65b-49a9-bb69-032e47998cd3",
   "metadata": {},
   "source": [
    "## Métricas"
   ]
  },
  {
   "cell_type": "code",
   "execution_count": 49,
   "id": "651a529f-4dd3-4936-ba3e-815111d2a22f",
   "metadata": {},
   "outputs": [
    {
     "name": "stdout",
     "output_type": "stream",
     "text": [
      "[1. 1. 1. 1. 0. 1. 0. 0. 0. 0. 0. 0. 0. 0. 1. 1. 1. 1. 1. 1. 0. 1. 0. 1.\n",
      " 1. 1. 1. 0. 0. 1. 0. 0.]\n",
      "[1. 1. 0. 1. 1. 1. 1. 0. 0. 0. 1. 1. 0. 1. 1. 1. 1. 1. 1. 1. 0. 0. 0. 0.\n",
      " 1. 1. 1. 0. 0. 1. 0. 0.]\n"
     ]
    }
   ],
   "source": [
    "test_y, test_pred_2 =  get_test_y_pred(model_2,test_data)\n",
    "print(test_y)\n",
    "print(test_pred_2)"
   ]
  },
  {
   "cell_type": "code",
   "execution_count": 50,
   "id": "1934555a-86ef-4d8e-bc48-0c5b20112b35",
   "metadata": {},
   "outputs": [
    {
     "data": {
      "text/plain": [
       "Text(0.5, 15.0, 'Predicted')"
      ]
     },
     "execution_count": 50,
     "metadata": {},
     "output_type": "execute_result"
    },
    {
     "data": {
      "image/png": "[encoded data removed]",
      "text/plain": [
       "<Figure size 432x288 with 2 Axes>"
      ]
     },
     "metadata": {
      "needs_background": "light"
     },
     "output_type": "display_data"
    }
   ],
   "source": [
    "sn.heatmap(confusion_matrix(test_y,test_pred_2),annot=True,cmap=\"YlGnBu\")\n",
    "plt.ylabel('True')\n",
    "plt.xlabel('Predicted')"
   ]
  },
  {
   "cell_type": "code",
   "execution_count": 51,
   "id": "73dc854f-96f3-435e-956d-18403dd91732",
   "metadata": {},
   "outputs": [
    {
     "name": "stdout",
     "output_type": "stream",
     "text": [
      "Negative values - Prediction: negativo\n",
      "Negative values - Prediction: negativo\n",
      "Negative values - Prediction: positivo\n",
      "Positive values - Prediction: positivo\n",
      "Positive values - Prediction: negativo\n",
      "Positive values - Prediction: positivo\n"
     ]
    }
   ],
   "source": [
    "test_samples(model_2)"
   ]
  },
  {
   "cell_type": "code",
   "execution_count": 52,
   "id": "81b10a12-4523-4130-baca-f147195d4a61",
   "metadata": {},
   "outputs": [
    {
     "data": {
      "text/plain": [
       "0.7777777777777778"
      ]
     },
     "execution_count": 52,
     "metadata": {},
     "output_type": "execute_result"
    }
   ],
   "source": [
    "f1_score(test_y,test_pred_2)"
   ]
  },
  {
   "cell_type": "markdown",
   "id": "d9473bcf-e72b-4318-84ef-67a14ff0ea70",
   "metadata": {},
   "source": [
    "## Log Mlflow"
   ]
  },
  {
   "cell_type": "code",
   "execution_count": 76,
   "id": "7ecf9c0f-0044-4c2a-8eb9-8f94305dbf78",
   "metadata": {},
   "outputs": [
    {
     "name": "stdout",
     "output_type": "stream",
     "text": [
      "INFO:tensorflow:Assets written to: /tmp/tmpqvddfpc4/model/data/model/assets\n"
     ]
    },
    {
     "name": "stderr",
     "output_type": "stream",
     "text": [
      "INFO:tensorflow:Assets written to: /tmp/tmpqvddfpc4/model/data/model/assets\n"
     ]
    }
   ],
   "source": [
    "log_experiment(idExperiment,lr_2,epochs_2,model_2,history_2, test_y,test_pred_2)"
   ]
  },
  {
   "cell_type": "code",
   "execution_count": 141,
   "id": "698e1052-6687-4676-a4ea-546ffc9e119d",
   "metadata": {},
   "outputs": [
    {
     "data": {
      "text/plain": [
       "'CNN with Transfer Learning'"
      ]
     },
     "execution_count": 141,
     "metadata": {},
     "output_type": "execute_result"
    }
   ],
   "source": [
    "from mlflow.tracking import MlflowClient\n",
    "from mlflow.entities import ViewType\n",
    "\n",
    "import mlflow\n",
    "import os \n",
    "\n",
    "\n",
    "client = MlflowClient()\n",
    "\n",
    "experiments = client.list_experiments(view_type=ViewType.ACTIVE_ONLY)\n",
    "experiments[0].name"
   ]
  },
  {
   "cell_type": "code",
   "execution_count": 140,
   "id": "d8ad59b0-e493-4b26-9445-f3dff0207d8b",
   "metadata": {},
   "outputs": [],
   "source": [
    "model_3 = keras.models.load_model('model')"
   ]
  },
  {
   "cell_type": "code",
   "execution_count": null,
   "id": "b559d668-9fee-44c4-b089-d02efd34c442",
   "metadata": {},
   "outputs": [],
   "source": []
  }
 ],
 "metadata": {
  "kernelspec": {
   "display_name": "Python 3.7 (XPython)",
   "language": "python",
   "name": "xpython"
  },
  "language_info": {
   "file_extension": ".py",
   "mimetype": "text/x-python",
   "name": "python",
   "version": "3.7.10"
  }
 },
 "nbformat": 4,
 "nbformat_minor": 5
}
